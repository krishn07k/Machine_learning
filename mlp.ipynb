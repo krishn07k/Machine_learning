{
  "nbformat": 4,
  "nbformat_minor": 0,
  "metadata": {
    "colab": {
      "name": "mlp.ipynb",
      "provenance": [],
      "authorship_tag": "ABX9TyPHxtE7IjQE/asyg6JrtZMF",
      "include_colab_link": true
    },
    "kernelspec": {
      "name": "python3",
      "display_name": "Python 3"
    },
    "language_info": {
      "name": "python"
    }
  },
  "cells": [
    {
      "cell_type": "markdown",
      "metadata": {
        "id": "view-in-github",
        "colab_type": "text"
      },
      "source": [
        "<a href=\"https://colab.research.google.com/github/krishn07k/Machine_learning/blob/main/mlp.ipynb\" target=\"_parent\"><img src=\"https://colab.research.google.com/assets/colab-badge.svg\" alt=\"Open In Colab\"/></a>"
      ]
    },
    {
      "cell_type": "code",
      "execution_count": 1,
      "metadata": {
        "id": "7pGKd9yWZyxD"
      },
      "outputs": [],
      "source": [
        "\n",
        "import pandas as pa\n",
        "from sklearn.model_selection import train_test_split\n",
        "from sklearn.neural_network import MLPClassifier"
      ]
    },
    {
      "cell_type": "code",
      "source": [
        "data = pa.read_csv('/content/test.csv')"
      ],
      "metadata": {
        "id": "egVSc-tQZ6VA"
      },
      "execution_count": 2,
      "outputs": []
    },
    {
      "cell_type": "code",
      "source": [
        "features=['X1 transaction date', 'X2 house age', 'X3 distance to the nearest MRT station', 'X4 number of convenience stores', 'X5 latitude', 'X6 longitude']\n",
        "X=data[features]\n",
        "y=data['status']"
      ],
      "metadata": {
        "id": "DQOkpvvUaGVm"
      },
      "execution_count": 3,
      "outputs": []
    },
    {
      "cell_type": "code",
      "source": [
        "X_train, X_test, y_train, y_test = train_test_split(X,y,test_size=0.2,random_state=42)"
      ],
      "metadata": {
        "id": "QtDw_JfHaWsB"
      },
      "execution_count": 4,
      "outputs": []
    },
    {
      "cell_type": "code",
      "source": [
        "mlp = MLPClassifier(\n",
        "    hidden_layer_sizes=(5,5,5),\n",
        "    random_state=5,\n",
        "    verbose=True,\n",
        "    learning_rate_init=0.01)\n"
      ],
      "metadata": {
        "id": "72xjfr8basXl"
      },
      "execution_count": 6,
      "outputs": []
    },
    {
      "cell_type": "code",
      "source": [
        "mlp.fit(X_train,y_train)\n",
        "ypred=mlp.predict(X_test)"
      ],
      "metadata": {
        "colab": {
          "base_uri": "https://localhost:8080/"
        },
        "id": "WN_tiPkpbDNx",
        "outputId": "f7091a00-fdd6-4d01-a68d-3e08532416bc"
      },
      "execution_count": 7,
      "outputs": [
        {
          "output_type": "stream",
          "name": "stdout",
          "text": [
            "Iteration 1, loss = 15.97489877\n",
            "Iteration 2, loss = 11.33938158\n",
            "Iteration 3, loss = 6.72012489\n",
            "Iteration 4, loss = 3.99695205\n",
            "Iteration 5, loss = 2.60959699\n",
            "Iteration 6, loss = 1.68244746\n",
            "Iteration 7, loss = 0.81187628\n",
            "Iteration 8, loss = 0.80379961\n",
            "Iteration 9, loss = 0.87299140\n",
            "Iteration 10, loss = 0.79178750\n",
            "Iteration 11, loss = 0.77460933\n",
            "Iteration 12, loss = 0.76630232\n",
            "Iteration 13, loss = 0.76064206\n",
            "Iteration 14, loss = 0.75301083\n",
            "Iteration 15, loss = 0.73365069\n",
            "Iteration 16, loss = 0.71423764\n",
            "Iteration 17, loss = 0.69699819\n",
            "Iteration 18, loss = 0.67743391\n",
            "Iteration 19, loss = 0.65961103\n",
            "Iteration 20, loss = 0.64342905\n",
            "Iteration 21, loss = 0.62542303\n",
            "Iteration 22, loss = 0.60973306\n",
            "Iteration 23, loss = 0.59718303\n",
            "Iteration 24, loss = 0.58370431\n",
            "Iteration 25, loss = 0.57270058\n",
            "Iteration 26, loss = 0.56242573\n",
            "Iteration 27, loss = 0.55333420\n",
            "Iteration 28, loss = 0.54463136\n",
            "Iteration 29, loss = 0.53592973\n",
            "Iteration 30, loss = 0.52965492\n",
            "Iteration 31, loss = 0.52185595\n",
            "Iteration 32, loss = 0.51491532\n",
            "Iteration 33, loss = 0.50649631\n",
            "Iteration 34, loss = 0.50091383\n",
            "Iteration 35, loss = 0.49536115\n",
            "Iteration 36, loss = 0.49003354\n",
            "Iteration 37, loss = 0.48661267\n",
            "Iteration 38, loss = 0.48508923\n",
            "Iteration 39, loss = 0.48550882\n",
            "Iteration 40, loss = 0.48657015\n",
            "Iteration 41, loss = 0.48700941\n",
            "Iteration 42, loss = 0.48785083\n",
            "Iteration 43, loss = 0.48849846\n",
            "Iteration 44, loss = 0.48743280\n",
            "Iteration 45, loss = 0.48619922\n",
            "Iteration 46, loss = 0.48586355\n",
            "Iteration 47, loss = 0.50968749\n",
            "Iteration 48, loss = 0.49324712\n",
            "Iteration 49, loss = 0.49027306\n",
            "Training loss did not improve more than tol=0.000100 for 10 consecutive epochs. Stopping.\n"
          ]
        }
      ]
    },
    {
      "cell_type": "code",
      "source": [
        "from sklearn.metrics import accuracy_score\n",
        "accuracy_score(y_test,ypred)\n"
      ],
      "metadata": {
        "colab": {
          "base_uri": "https://localhost:8080/"
        },
        "id": "s5F9okXXbRPI",
        "outputId": "7030f048-2b7b-42fc-edbc-078f01e9532c"
      },
      "execution_count": 8,
      "outputs": [
        {
          "output_type": "execute_result",
          "data": {
            "text/plain": [
              "0.7951807228915663"
            ]
          },
          "metadata": {},
          "execution_count": 8
        }
      ]
    }
  ]
}