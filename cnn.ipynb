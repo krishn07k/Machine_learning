{
  "nbformat": 4,
  "nbformat_minor": 0,
  "metadata": {
    "colab": {
      "name": "cnn.ipynb",
      "provenance": [],
      "toc_visible": true,
      "include_colab_link": true
    },
    "kernelspec": {
      "name": "python3",
      "display_name": "Python 3"
    },
    "language_info": {
      "name": "python"
    }
  },
  "cells": [
    {
      "cell_type": "markdown",
      "metadata": {
        "id": "view-in-github",
        "colab_type": "text"
      },
      "source": [
        "<a href=\"https://colab.research.google.com/github/krishn07k/Machine_learning/blob/main/cnn.ipynb\" target=\"_parent\"><img src=\"https://colab.research.google.com/assets/colab-badge.svg\" alt=\"Open In Colab\"/></a>"
      ]
    },
    {
      "cell_type": "code",
      "execution_count": null,
      "metadata": {
        "id": "gnzW2cqYSM7s"
      },
      "outputs": [],
      "source": [
        "import tensorflow as tf\n",
        "\n",
        "from tensorflow.keras import datasets,models,layers\n",
        "import matplotlib.pyplot as plt\n"
      ]
    },
    {
      "cell_type": "code",
      "source": [
        "(train_images,train_labels),(test_images,test_labels) = datasets.cifar10.load_data()\n",
        "\n",
        "train_images,test_images = train_images/255.0, test_images/255.0\n"
      ],
      "metadata": {
        "colab": {
          "base_uri": "https://localhost:8080/"
        },
        "id": "YbaTHS3kSmMo",
        "outputId": "18de29bf-8d26-4ecd-c9b9-d24ed25adb8d"
      },
      "execution_count": null,
      "outputs": [
        {
          "output_type": "stream",
          "name": "stdout",
          "text": [
            "Downloading data from https://www.cs.toronto.edu/~kriz/cifar-10-python.tar.gz\n",
            "170500096/170498071 [==============================] - 2s 0us/step\n",
            "170508288/170498071 [==============================] - 2s 0us/step\n"
          ]
        }
      ]
    },
    {
      "cell_type": "code",
      "source": [
        "model = models.Sequential()\n",
        "model.add(layers.Conv2D(32,(3,3),activation='relu',input_shape=(32,32,3)))\n",
        "model.add(layers.MaxPool2D(2,2))\n",
        "model.add(layers.Conv2D(64,(3,3),activation='relu'))\n",
        "model.add(layers.MaxPool2D(2,2))\n",
        "model.add(layers.Conv2D(64,(3,3),activation='relu'))"
      ],
      "metadata": {
        "id": "erdcevbfS9bR"
      },
      "execution_count": null,
      "outputs": []
    },
    {
      "cell_type": "code",
      "source": [
        "model.summary()"
      ],
      "metadata": {
        "colab": {
          "base_uri": "https://localhost:8080/"
        },
        "id": "yy9kW6zaTymj",
        "outputId": "17ce3f4e-f60f-4c75-b91a-422e1e4daf50"
      },
      "execution_count": null,
      "outputs": [
        {
          "output_type": "stream",
          "name": "stdout",
          "text": [
            "Model: \"sequential\"\n",
            "_________________________________________________________________\n",
            " Layer (type)                Output Shape              Param #   \n",
            "=================================================================\n",
            " conv2d (Conv2D)             (None, 30, 30, 32)        896       \n",
            "                                                                 \n",
            " max_pooling2d (MaxPooling2D  (None, 15, 15, 32)       0         \n",
            " )                                                               \n",
            "                                                                 \n",
            " conv2d_1 (Conv2D)           (None, 13, 13, 64)        18496     \n",
            "                                                                 \n",
            " max_pooling2d_1 (MaxPooling  (None, 6, 6, 64)         0         \n",
            " 2D)                                                             \n",
            "                                                                 \n",
            " conv2d_2 (Conv2D)           (None, 4, 4, 64)          36928     \n",
            "                                                                 \n",
            "=================================================================\n",
            "Total params: 56,320\n",
            "Trainable params: 56,320\n",
            "Non-trainable params: 0\n",
            "_________________________________________________________________\n"
          ]
        }
      ]
    },
    {
      "cell_type": "code",
      "source": [
        "model.add(layers.Flatten())\n",
        "model.add(layers.Dense(64,activation='relu'))\n",
        "model.add(layers.Dense(10))"
      ],
      "metadata": {
        "id": "sYvBYyKhThFv"
      },
      "execution_count": null,
      "outputs": []
    },
    {
      "cell_type": "code",
      "source": [
        "model.compile(loss=tf.keras.losses.SparseCategoricalCrossentropy(from_logits=True),\n",
        "    optimizer='adam',\n",
        "    metrics = ['accuracy']\n",
        ")"
      ],
      "metadata": {
        "id": "tLEfNFpDT5Di"
      },
      "execution_count": null,
      "outputs": []
    },
    {
      "cell_type": "code",
      "source": [
        "history = model.fit(train_images,train_labels, epochs=10, validation_data=(test_images,test_labels))"
      ],
      "metadata": {
        "colab": {
          "base_uri": "https://localhost:8080/"
        },
        "id": "gRsWM6tMUpSK",
        "outputId": "a5f2f948-636a-4ae4-ba7c-5d866bc00ecb"
      },
      "execution_count": null,
      "outputs": [
        {
          "output_type": "stream",
          "name": "stdout",
          "text": [
            "Epoch 1/10\n",
            "1563/1563 [==============================] - 74s 47ms/step - loss: 1.5285 - accuracy: 0.4421 - val_loss: 1.2453 - val_accuracy: 0.5522\n",
            "Epoch 2/10\n",
            "1563/1563 [==============================] - 72s 46ms/step - loss: 1.1581 - accuracy: 0.5885 - val_loss: 1.1049 - val_accuracy: 0.6080\n",
            "Epoch 3/10\n",
            "1563/1563 [==============================] - 71s 46ms/step - loss: 1.0061 - accuracy: 0.6463 - val_loss: 0.9696 - val_accuracy: 0.6573\n",
            "Epoch 4/10\n",
            "1563/1563 [==============================] - 72s 46ms/step - loss: 0.9063 - accuracy: 0.6809 - val_loss: 0.9429 - val_accuracy: 0.6673\n",
            "Epoch 5/10\n",
            "1563/1563 [==============================] - 71s 45ms/step - loss: 0.8260 - accuracy: 0.7092 - val_loss: 0.8791 - val_accuracy: 0.6951\n",
            "Epoch 6/10\n",
            "1563/1563 [==============================] - 72s 46ms/step - loss: 0.7667 - accuracy: 0.7313 - val_loss: 0.8982 - val_accuracy: 0.6896\n",
            "Epoch 7/10\n",
            "1563/1563 [==============================] - 71s 45ms/step - loss: 0.7207 - accuracy: 0.7477 - val_loss: 0.8550 - val_accuracy: 0.7052\n",
            "Epoch 8/10\n",
            "1563/1563 [==============================] - 70s 45ms/step - loss: 0.6770 - accuracy: 0.7622 - val_loss: 0.8226 - val_accuracy: 0.7210\n",
            "Epoch 9/10\n",
            "1563/1563 [==============================] - 71s 46ms/step - loss: 0.6433 - accuracy: 0.7724 - val_loss: 0.8541 - val_accuracy: 0.7171\n",
            "Epoch 10/10\n",
            "1563/1563 [==============================] - 73s 47ms/step - loss: 0.6033 - accuracy: 0.7887 - val_loss: 0.8414 - val_accuracy: 0.7172\n"
          ]
        }
      ]
    },
    {
      "cell_type": "code",
      "source": [
        "plt.plot(history.history['accuracy'],label='accuracy')\n",
        "plt.plot(history.history['val_accuracy'],label='val_accuracy')"
      ],
      "metadata": {
        "colab": {
          "base_uri": "https://localhost:8080/",
          "height": 283
        },
        "id": "iJT4mQUpXBt8",
        "outputId": "9ef4dfbf-507a-42b3-aa05-6a2de75e12bc"
      },
      "execution_count": null,
      "outputs": [
        {
          "output_type": "execute_result",
          "data": {
            "text/plain": [
              "[<matplotlib.lines.Line2D at 0x7f37d8fff310>]"
            ]
          },
          "metadata": {},
          "execution_count": 19
        },
        {
          "output_type": "display_data",
          "data": {
            "text/plain": [
              "<Figure size 432x288 with 1 Axes>"
            ],
            "image/png": "[encoded data removed]"
          },
          "metadata": {
            "needs_background": "light"
          }
        }
      ]
    },
    {
      "cell_type": "code",
      "source": [
        "test_loss, test_acc = model.evaluate(test_images,test_labels,verbose=2)"
      ],
      "metadata": {
        "colab": {
          "base_uri": "https://localhost:8080/"
        },
        "id": "oBezVSGZhO4X",
        "outputId": "31077473-d51e-4eda-87db-8fe678d329ca"
      },
      "execution_count": null,
      "outputs": [
        {
          "output_type": "stream",
          "name": "stdout",
          "text": [
            "313/313 - 4s - loss: 0.8414 - accuracy: 0.7172 - 4s/epoch - 12ms/step\n"
          ]
        }
      ]
    }
  ]
}