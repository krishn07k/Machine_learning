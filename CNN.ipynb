{
 "cells": [
  {
   "cell_type": "markdown",
   "id": "7b9dbc4d",
   "metadata": {},
   "source": [
    "Name: Harsha TR\n",
    "\n",
    "Class: IT A\n",
    "\n",
    "Reg No.: 195002047"
   ]
  },
  {
   "cell_type": "code",
   "execution_count": 1,
   "id": "da6026cc",
   "metadata": {},
   "outputs": [
    {
     "name": "stdout",
     "output_type": "stream",
     "text": [
      "Downloading data from https://storage.googleapis.com/tensorflow/tf-keras-datasets/train-labels-idx1-ubyte.gz\n",
      "29515/29515 [==============================] - 0s 0us/step\n",
      "Downloading data from https://storage.googleapis.com/tensorflow/tf-keras-datasets/train-images-idx3-ubyte.gz\n",
      "26421880/26421880 [==============================] - 5s 0us/step\n",
      "Downloading data from https://storage.googleapis.com/tensorflow/tf-keras-datasets/t10k-labels-idx1-ubyte.gz\n",
      "5148/5148 [==============================] - 0s 0s/step\n",
      "Downloading data from https://storage.googleapis.com/tensorflow/tf-keras-datasets/t10k-images-idx3-ubyte.gz\n",
      "4422102/4422102 [==============================] - 1s 0us/step\n"
     ]
    }
   ],
   "source": [
    "from keras.datasets import fashion_mnist\n",
    "(train_X,train_Y), (test_X,test_Y) = fashion_mnist.load_data()"
   ]
  },
  {
   "cell_type": "code",
   "execution_count": 2,
   "id": "daf07c7a",
   "metadata": {},
   "outputs": [
    {
     "name": "stdout",
     "output_type": "stream",
     "text": [
      "Training data shape :  (60000, 28, 28) (60000,)\n",
      "Testing data shape :  (10000, 28, 28) (10000,)\n"
     ]
    }
   ],
   "source": [
    "import numpy as np\n",
    "from keras.utils import to_categorical\n",
    "import matplotlib.pyplot as plt\n",
    "%matplotlib inline\n",
    "\n",
    "print('Training data shape : ', train_X.shape, train_Y.shape)\n",
    "\n",
    "print('Testing data shape : ', test_X.shape, test_Y.shape)"
   ]
  },
  {
   "cell_type": "code",
   "execution_count": 3,
   "id": "0a0ddc93",
   "metadata": {},
   "outputs": [
    {
     "name": "stdout",
     "output_type": "stream",
     "text": [
      "Total number of outputs :  10\n",
      "Output classes :  [0 1 2 3 4 5 6 7 8 9]\n"
     ]
    }
   ],
   "source": [
    "# Find the unique numbers from the train labels\n",
    "classes = np.unique(train_Y)\n",
    "nClasses = len(classes)\n",
    "print('Total number of outputs : ', nClasses)\n",
    "print('Output classes : ', classes)"
   ]
  },
  {
   "cell_type": "code",
   "execution_count": 14,
   "id": "9e9c1420",
   "metadata": {},
   "outputs": [
    {
     "data": {
      "text/plain": [
       "<matplotlib.image.AxesImage at 0x24149ce0a00>"
      ]
     },
     "execution_count": 14,
     "metadata": {},
     "output_type": "execute_result"
    },
    {
     "data": {
      "image/png": "[encoded data removed]",
      "text/plain": [
       "<Figure size 360x360 with 2 Axes>"
      ]
     },
     "metadata": {
      "needs_background": "light"
     },
     "output_type": "display_data"
    }
   ],
   "source": [
    "plt.figure(figsize=[5,5])\n",
    "\n",
    "# Display the first image in training data\n",
    "plt.subplot(121)\n",
    "plt.imshow(train_X[1])\n",
    "\n",
    "# Display the first image in testing data\n",
    "plt.subplot(122)\n",
    "plt.imshow(test_X[0])"
   ]
  },
  {
   "cell_type": "code",
   "execution_count": 15,
   "id": "8d03f600",
   "metadata": {},
   "outputs": [
    {
     "data": {
      "text/plain": [
       "((60000, 28, 28, 1), (10000, 28, 28, 1))"
      ]
     },
     "execution_count": 15,
     "metadata": {},
     "output_type": "execute_result"
    }
   ],
   "source": [
    "train_X = train_X.reshape(-1, 28,28, 1)\n",
    "test_X = test_X.reshape(-1, 28,28, 1)\n",
    "train_X.shape, test_X.shape"
   ]
  },
  {
   "cell_type": "code",
   "execution_count": 16,
   "id": "e5509300",
   "metadata": {},
   "outputs": [],
   "source": [
    "train_X = train_X.astype('float32')\n",
    "test_X = test_X.astype('float32')\n",
    "train_X = train_X / 255.\n",
    "test_X = test_X / 255."
   ]
  },
  {
   "cell_type": "code",
   "execution_count": 17,
   "id": "edd1c264",
   "metadata": {},
   "outputs": [
    {
     "name": "stdout",
     "output_type": "stream",
     "text": [
      "Original label: 9\n",
      "After conversion to one-hot: [0. 0. 0. 0. 0. 0. 0. 0. 0. 1.]\n"
     ]
    }
   ],
   "source": [
    "# Change the labels from categorical to one-hot encoding\n",
    "train_Y_one_hot = to_categorical(train_Y)\n",
    "test_Y_one_hot = to_categorical(test_Y)\n",
    "\n",
    "# Display the change for category label using one-hot encoding\n",
    "print('Original label:', train_Y[0])\n",
    "print('After conversion to one-hot:', train_Y_one_hot[0])"
   ]
  },
  {
   "cell_type": "code",
   "execution_count": 18,
   "id": "ce50d1a2",
   "metadata": {},
   "outputs": [],
   "source": [
    "from sklearn.model_selection import train_test_split\n",
    "train_X,valid_X,train_label,valid_label = train_test_split(train_X, train_Y_one_hot, test_size=0.2, random_state=13)"
   ]
  },
  {
   "cell_type": "code",
   "execution_count": 19,
   "id": "aad08a0f",
   "metadata": {},
   "outputs": [
    {
     "data": {
      "text/plain": [
       "((48000, 28, 28, 1), (12000, 28, 28, 1), (48000, 10), (12000, 10))"
      ]
     },
     "execution_count": 19,
     "metadata": {},
     "output_type": "execute_result"
    }
   ],
   "source": [
    "train_X.shape,valid_X.shape,train_label.shape,valid_label.shape"
   ]
  },
  {
   "cell_type": "code",
   "execution_count": 27,
   "id": "2f9a7800",
   "metadata": {},
   "outputs": [],
   "source": [
    "import keras\n",
    "from keras.layers import LeakyReLU"
   ]
  },
  {
   "cell_type": "code",
   "execution_count": 28,
   "id": "c7ef9b29",
   "metadata": {},
   "outputs": [],
   "source": [
    "batch_size = 64\n",
    "epochs = 20\n",
    "num_classes = 10"
   ]
  },
  {
   "cell_type": "code",
   "execution_count": 29,
   "id": "f0fa773e",
   "metadata": {},
   "outputs": [],
   "source": [
    "fashion_model = Sequential()\n",
    "fashion_model.add(Conv2D(32, kernel_size=(3, 3),activation='linear',input_shape=(28,28,1),padding='same'))\n",
    "fashion_model.add(LeakyReLU(alpha=0.1))\n",
    "fashion_model.add(MaxPooling2D((2, 2),padding='same'))\n",
    "fashion_model.add(Conv2D(64, (3, 3), activation='linear',padding='same'))\n",
    "fashion_model.add(LeakyReLU(alpha=0.1))\n",
    "fashion_model.add(MaxPooling2D(pool_size=(2, 2),padding='same'))\n",
    "fashion_model.add(Conv2D(128, (3, 3), activation='linear',padding='same'))\n",
    "fashion_model.add(LeakyReLU(alpha=0.1))                  \n",
    "fashion_model.add(MaxPooling2D(pool_size=(2, 2),padding='same'))\n",
    "fashion_model.add(Flatten())\n",
    "fashion_model.add(Dense(128, activation='linear'))\n",
    "fashion_model.add(LeakyReLU(alpha=0.1))                  \n",
    "fashion_model.add(Dense(num_classes, activation='softmax'))"
   ]
  },
  {
   "cell_type": "code",
   "execution_count": 30,
   "id": "bb4a9de1",
   "metadata": {},
   "outputs": [],
   "source": [
    "fashion_model.compile(loss=keras.losses.categorical_crossentropy, optimizer=keras.optimizers.Adam(),metrics=['accuracy'])"
   ]
  },
  {
   "cell_type": "code",
   "execution_count": 31,
   "id": "1c41b4c1",
   "metadata": {},
   "outputs": [
    {
     "name": "stdout",
     "output_type": "stream",
     "text": [
      "Model: \"sequential_1\"\n",
      "_________________________________________________________________\n",
      " Layer (type)                Output Shape              Param #   \n",
      "=================================================================\n",
      " conv2d_1 (Conv2D)           (None, 28, 28, 32)        320       \n",
      "                                                                 \n",
      " leaky_re_lu (LeakyReLU)     (None, 28, 28, 32)        0         \n",
      "                                                                 \n",
      " max_pooling2d (MaxPooling2D  (None, 14, 14, 32)       0         \n",
      " )                                                               \n",
      "                                                                 \n",
      " conv2d_2 (Conv2D)           (None, 14, 14, 64)        18496     \n",
      "                                                                 \n",
      " leaky_re_lu_1 (LeakyReLU)   (None, 14, 14, 64)        0         \n",
      "                                                                 \n",
      " max_pooling2d_1 (MaxPooling  (None, 7, 7, 64)         0         \n",
      " 2D)                                                             \n",
      "                                                                 \n",
      " conv2d_3 (Conv2D)           (None, 7, 7, 128)         73856     \n",
      "                                                                 \n",
      " leaky_re_lu_2 (LeakyReLU)   (None, 7, 7, 128)         0         \n",
      "                                                                 \n",
      " max_pooling2d_2 (MaxPooling  (None, 4, 4, 128)        0         \n",
      " 2D)                                                             \n",
      "                                                                 \n",
      " flatten (Flatten)           (None, 2048)              0         \n",
      "                                                                 \n",
      " dense (Dense)               (None, 128)               262272    \n",
      "                                                                 \n",
      " leaky_re_lu_3 (LeakyReLU)   (None, 128)               0         \n",
      "                                                                 \n",
      " dense_1 (Dense)             (None, 10)                1290      \n",
      "                                                                 \n",
      "=================================================================\n",
      "Total params: 356,234\n",
      "Trainable params: 356,234\n",
      "Non-trainable params: 0\n",
      "_________________________________________________________________\n"
     ]
    }
   ],
   "source": [
    "fashion_model.summary()"
   ]
  },
  {
   "cell_type": "code",
   "execution_count": 32,
   "id": "ef6e5dd1",
   "metadata": {},
   "outputs": [
    {
     "name": "stdout",
     "output_type": "stream",
     "text": [
      "Epoch 1/20\n",
      "750/750 [==============================] - 90s 118ms/step - loss: 0.4638 - accuracy: 0.8301 - val_loss: 0.3251 - val_accuracy: 0.8823\n",
      "Epoch 2/20\n",
      "750/750 [==============================] - 88s 118ms/step - loss: 0.2873 - accuracy: 0.8945 - val_loss: 0.2768 - val_accuracy: 0.8992\n",
      "Epoch 3/20\n",
      "750/750 [==============================] - 94s 125ms/step - loss: 0.2427 - accuracy: 0.9093 - val_loss: 0.2627 - val_accuracy: 0.9056\n",
      "Epoch 4/20\n",
      "750/750 [==============================] - 96s 128ms/step - loss: 0.2104 - accuracy: 0.9236 - val_loss: 0.2526 - val_accuracy: 0.9095\n",
      "Epoch 5/20\n",
      "750/750 [==============================] - 94s 125ms/step - loss: 0.1848 - accuracy: 0.9309 - val_loss: 0.2356 - val_accuracy: 0.9140\n",
      "Epoch 6/20\n",
      "750/750 [==============================] - 94s 126ms/step - loss: 0.1622 - accuracy: 0.9389 - val_loss: 0.2429 - val_accuracy: 0.9123\n",
      "Epoch 7/20\n",
      "750/750 [==============================] - 95s 126ms/step - loss: 0.1429 - accuracy: 0.9458 - val_loss: 0.2595 - val_accuracy: 0.9110\n",
      "Epoch 8/20\n",
      "750/750 [==============================] - 94s 126ms/step - loss: 0.1211 - accuracy: 0.9550 - val_loss: 0.2469 - val_accuracy: 0.9185\n",
      "Epoch 9/20\n",
      "750/750 [==============================] - 95s 127ms/step - loss: 0.1034 - accuracy: 0.9615 - val_loss: 0.2531 - val_accuracy: 0.9215\n",
      "Epoch 10/20\n",
      "750/750 [==============================] - 95s 127ms/step - loss: 0.0884 - accuracy: 0.9669 - val_loss: 0.2620 - val_accuracy: 0.9222\n",
      "Epoch 11/20\n",
      "750/750 [==============================] - 95s 127ms/step - loss: 0.0766 - accuracy: 0.9714 - val_loss: 0.2603 - val_accuracy: 0.9223\n",
      "Epoch 12/20\n",
      "750/750 [==============================] - 100s 133ms/step - loss: 0.0632 - accuracy: 0.9763 - val_loss: 0.2943 - val_accuracy: 0.9200\n",
      "Epoch 13/20\n",
      "750/750 [==============================] - 96s 128ms/step - loss: 0.0580 - accuracy: 0.9781 - val_loss: 0.3186 - val_accuracy: 0.9227\n",
      "Epoch 14/20\n",
      "750/750 [==============================] - 104s 139ms/step - loss: 0.0504 - accuracy: 0.9821 - val_loss: 0.3388 - val_accuracy: 0.9202\n",
      "Epoch 15/20\n",
      "750/750 [==============================] - 102s 136ms/step - loss: 0.0437 - accuracy: 0.9842 - val_loss: 0.3588 - val_accuracy: 0.9168\n",
      "Epoch 16/20\n",
      "750/750 [==============================] - 108s 144ms/step - loss: 0.0379 - accuracy: 0.9861 - val_loss: 0.3676 - val_accuracy: 0.9212\n",
      "Epoch 17/20\n",
      "750/750 [==============================] - 100s 133ms/step - loss: 0.0331 - accuracy: 0.9877 - val_loss: 0.3792 - val_accuracy: 0.9218\n",
      "Epoch 18/20\n",
      "750/750 [==============================] - 97s 129ms/step - loss: 0.0361 - accuracy: 0.9867 - val_loss: 0.4707 - val_accuracy: 0.9144\n",
      "Epoch 19/20\n",
      "750/750 [==============================] - 94s 125ms/step - loss: 0.0320 - accuracy: 0.9883 - val_loss: 0.4746 - val_accuracy: 0.9202\n",
      "Epoch 20/20\n",
      "750/750 [==============================] - 95s 126ms/step - loss: 0.0323 - accuracy: 0.9880 - val_loss: 0.4313 - val_accuracy: 0.9154\n"
     ]
    }
   ],
   "source": [
    "fashion_train = fashion_model.fit(train_X, train_label, batch_size=batch_size,epochs=epochs,verbose=1,validation_data=(valid_X, valid_label))"
   ]
  },
  {
   "cell_type": "code",
   "execution_count": 33,
   "id": "d91b931e",
   "metadata": {},
   "outputs": [
    {
     "name": "stdout",
     "output_type": "stream",
     "text": [
      "313/313 [==============================] - 8s 24ms/step - loss: 0.4577 - accuracy: 0.9104\n"
     ]
    }
   ],
   "source": [
    "test_eval = fashion_model.evaluate(test_X, test_Y_one_hot, verbose=1)"
   ]
  },
  {
   "cell_type": "code",
   "execution_count": 34,
   "id": "17e1d879",
   "metadata": {},
   "outputs": [
    {
     "name": "stdout",
     "output_type": "stream",
     "text": [
      "Test loss: 0.45771220326423645\n",
      "Test accuracy: 0.9103999733924866\n"
     ]
    }
   ],
   "source": [
    "print('Test loss:', test_eval[0])\n",
    "print('Test accuracy:', test_eval[1])"
   ]
  },
  {
   "cell_type": "code",
   "execution_count": null,
   "id": "f6936228",
   "metadata": {},
   "outputs": [],
   "source": []
  }
 ],
 "metadata": {
  "kernelspec": {
   "display_name": "Python 3 (ipykernel)",
   "language": "python",
   "name": "python3"
  },
  "language_info": {
   "codemirror_mode": {
    "name": "ipython",
    "version": 3
   },
   "file_extension": ".py",
   "mimetype": "text/x-python",
   "name": "python",
   "nbconvert_exporter": "python",
   "pygments_lexer": "ipython3",
   "version": "3.9.12"
  }
 },
 "nbformat": 4,
 "nbformat_minor": 5
}
